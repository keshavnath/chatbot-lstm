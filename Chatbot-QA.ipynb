{
  "nbformat": 4,
  "nbformat_minor": 0,
  "metadata": {
    "colab": {
      "name": "nlp-udemy-chatbot",
      "provenance": [],
      "collapsed_sections": []
    },
    "kernelspec": {
      "name": "python3",
      "display_name": "Python 3"
    },
    "language_info": {
      "name": "python"
    }
  },
  "cells": [
    {
      "cell_type": "markdown",
      "source": [
        "# LSTM and Word Embeddings for Story Q/A\n",
        "Yes/No Question Answering on the Facebook Babi dataset."
      ],
      "metadata": {
        "id": "eVMkjyX3uqPi"
      }
    },
    {
      "cell_type": "markdown",
      "source": [
        "## Setup and Data Loading"
      ],
      "metadata": {
        "id": "2BgwbAeVuzec"
      }
    },
    {
      "cell_type": "code",
      "execution_count": null,
      "metadata": {
        "id": "O4TqISOBdb5c"
      },
      "outputs": [],
      "source": [
        "import pickle\n",
        "import numpy as np\n",
        "import pandas as pd"
      ]
    },
    {
      "cell_type": "code",
      "source": [
        "with open('train_qa.txt','rb') as f:\n",
        "  train_data = pickle.load(f)\n",
        "\n",
        "with open('test_qa.txt','rb') as f:\n",
        "  test_data = pickle.load(f)"
      ],
      "metadata": {
        "id": "m40cfHzcfG_T"
      },
      "execution_count": null,
      "outputs": []
    },
    {
      "cell_type": "code",
      "source": [
        "' '.join(train_data[0][0])"
      ],
      "metadata": {
        "colab": {
          "base_uri": "https://localhost:8080/",
          "height": 35
        },
        "id": "ZBaQK3aKfUAC",
        "outputId": "444fd82c-d736-4120-8828-ae94b69f561d"
      },
      "execution_count": null,
      "outputs": [
        {
          "output_type": "execute_result",
          "data": {
            "text/plain": [
              "'Mary moved to the bathroom . Sandra journeyed to the bedroom .'"
            ],
            "application/vnd.google.colaboratory.intrinsic+json": {
              "type": "string"
            }
          },
          "metadata": {},
          "execution_count": 6
        }
      ]
    },
    {
      "cell_type": "code",
      "source": [
        "' '.join(train_data[0][1])"
      ],
      "metadata": {
        "colab": {
          "base_uri": "https://localhost:8080/",
          "height": 35
        },
        "id": "5R-kGcowfV-a",
        "outputId": "bf0c95c0-1c7b-4087-b4f9-cc42c4e5eaae"
      },
      "execution_count": null,
      "outputs": [
        {
          "output_type": "execute_result",
          "data": {
            "text/plain": [
              "'Is Sandra in the hallway ?'"
            ],
            "application/vnd.google.colaboratory.intrinsic+json": {
              "type": "string"
            }
          },
          "metadata": {},
          "execution_count": 7
        }
      ]
    },
    {
      "cell_type": "code",
      "source": [
        "train_data[0][2]"
      ],
      "metadata": {
        "colab": {
          "base_uri": "https://localhost:8080/",
          "height": 35
        },
        "id": "VWSd4NgHfl8q",
        "outputId": "96e86a80-cdb3-4706-8e7b-bac081f74a9f"
      },
      "execution_count": null,
      "outputs": [
        {
          "output_type": "execute_result",
          "data": {
            "text/plain": [
              "'no'"
            ],
            "application/vnd.google.colaboratory.intrinsic+json": {
              "type": "string"
            }
          },
          "metadata": {},
          "execution_count": 8
        }
      ]
    },
    {
      "cell_type": "code",
      "source": [
        "all_data = test_data + train_data\n",
        "len(all_data)"
      ],
      "metadata": {
        "colab": {
          "base_uri": "https://localhost:8080/"
        },
        "id": "-8uA-vPAfyz7",
        "outputId": "38753131-3932-46e9-cf86-0b3f83bf044a"
      },
      "execution_count": null,
      "outputs": [
        {
          "output_type": "execute_result",
          "data": {
            "text/plain": [
              "11000"
            ]
          },
          "metadata": {},
          "execution_count": 9
        }
      ]
    },
    {
      "cell_type": "code",
      "source": [
        "set(train_data[0][0])"
      ],
      "metadata": {
        "colab": {
          "base_uri": "https://localhost:8080/"
        },
        "id": "YlYkhcfQgJEC",
        "outputId": "606e93da-7654-406c-cb6d-e597165412b4"
      },
      "execution_count": null,
      "outputs": [
        {
          "output_type": "execute_result",
          "data": {
            "text/plain": [
              "{'.',\n",
              " 'Mary',\n",
              " 'Sandra',\n",
              " 'bathroom',\n",
              " 'bedroom',\n",
              " 'journeyed',\n",
              " 'moved',\n",
              " 'the',\n",
              " 'to'}"
            ]
          },
          "metadata": {},
          "execution_count": 10
        }
      ]
    },
    {
      "cell_type": "markdown",
      "source": [
        "## Creating a Vocabulary"
      ],
      "metadata": {
        "id": "hsoYpFBYu9EC"
      }
    },
    {
      "cell_type": "code",
      "source": [
        "vocab=set()\n",
        "\n",
        "for story,question,answer in all_data:\n",
        "  vocab = vocab.union(set(story))\n",
        "  vocab = vocab.union(set(question))"
      ],
      "metadata": {
        "id": "G8s4p1EAf5QS"
      },
      "execution_count": null,
      "outputs": []
    },
    {
      "cell_type": "code",
      "source": [
        "vocab.add('no')\n",
        "vocab.add('yes')"
      ],
      "metadata": {
        "id": "XOJ8WuVMgcQt"
      },
      "execution_count": null,
      "outputs": []
    },
    {
      "cell_type": "code",
      "source": [
        "' '.join(vocab)"
      ],
      "metadata": {
        "colab": {
          "base_uri": "https://localhost:8080/",
          "height": 70
        },
        "id": "0RYGXUGkgfBM",
        "outputId": "3c490f43-aa93-45a3-a063-87d2f848ed48"
      },
      "execution_count": null,
      "outputs": [
        {
          "output_type": "execute_result",
          "data": {
            "text/plain": [
              "'. office garden Sandra to football put discarded dropped Daniel the bathroom travelled apple John no journeyed went yes left in took hallway Is got ? Mary bedroom milk there grabbed kitchen picked back down moved up'"
            ],
            "application/vnd.google.colaboratory.intrinsic+json": {
              "type": "string"
            }
          },
          "metadata": {},
          "execution_count": 13
        }
      ]
    },
    {
      "cell_type": "code",
      "source": [
        "vocab_len = len(vocab) + 1\n",
        "vocab_len"
      ],
      "metadata": {
        "colab": {
          "base_uri": "https://localhost:8080/"
        },
        "id": "A7-8mieagg3a",
        "outputId": "fbac6ba2-2fa6-4764-f0ef-1f2d9e3b76ee"
      },
      "execution_count": null,
      "outputs": [
        {
          "output_type": "execute_result",
          "data": {
            "text/plain": [
              "38"
            ]
          },
          "metadata": {},
          "execution_count": 14
        }
      ]
    },
    {
      "cell_type": "markdown",
      "source": [
        "## Setting up limits for the neural network"
      ],
      "metadata": {
        "id": "rIQ_mfvmvAJy"
      }
    },
    {
      "cell_type": "code",
      "source": [
        "# Longest story\n",
        "all_story_lens = [len(data[0]) for data in all_data]\n",
        "max_story_len = max(all_story_lens)\n",
        "max_story_len"
      ],
      "metadata": {
        "colab": {
          "base_uri": "https://localhost:8080/"
        },
        "id": "tV7tN8y9grk6",
        "outputId": "366d787f-773c-4a90-e859-d88e87f44aae"
      },
      "execution_count": null,
      "outputs": [
        {
          "output_type": "execute_result",
          "data": {
            "text/plain": [
              "156"
            ]
          },
          "metadata": {},
          "execution_count": 18
        }
      ]
    },
    {
      "cell_type": "code",
      "source": [
        "max_question_len = max([len(data[1]) for data in all_data])\n",
        "max_question_len"
      ],
      "metadata": {
        "colab": {
          "base_uri": "https://localhost:8080/"
        },
        "id": "nszLYNNFg-kr",
        "outputId": "eddffb32-6be8-4c79-87b7-46faac83160c"
      },
      "execution_count": null,
      "outputs": [
        {
          "output_type": "execute_result",
          "data": {
            "text/plain": [
              "6"
            ]
          },
          "metadata": {},
          "execution_count": 20
        }
      ]
    },
    {
      "cell_type": "markdown",
      "source": [
        "## Tokenization and Vetorization"
      ],
      "metadata": {
        "id": "KkcX2od_vKE0"
      }
    },
    {
      "cell_type": "code",
      "source": [
        "from tensorflow.keras.preprocessing.sequence import pad_sequences\n",
        "from tensorflow.keras.preprocessing.text import Tokenizer"
      ],
      "metadata": {
        "id": "jppSvlu5hP5L"
      },
      "execution_count": null,
      "outputs": []
    },
    {
      "cell_type": "code",
      "source": [
        "tokenizer = Tokenizer(filters=[])\n",
        "tokenizer.fit_on_texts(vocab)"
      ],
      "metadata": {
        "id": "cpxJ7ruzhmE7"
      },
      "execution_count": null,
      "outputs": []
    },
    {
      "cell_type": "code",
      "source": [
        "tokenizer.word_index"
      ],
      "metadata": {
        "colab": {
          "base_uri": "https://localhost:8080/"
        },
        "id": "PRUj9sOehuoa",
        "outputId": "7f5d5c54-4d79-416b-f659-c718c9c021ce"
      },
      "execution_count": null,
      "outputs": [
        {
          "output_type": "execute_result",
          "data": {
            "text/plain": [
              "{'.': 1,\n",
              " '?': 26,\n",
              " 'apple': 14,\n",
              " 'back': 34,\n",
              " 'bathroom': 12,\n",
              " 'bedroom': 28,\n",
              " 'daniel': 10,\n",
              " 'discarded': 8,\n",
              " 'down': 35,\n",
              " 'dropped': 9,\n",
              " 'football': 6,\n",
              " 'garden': 3,\n",
              " 'got': 25,\n",
              " 'grabbed': 31,\n",
              " 'hallway': 23,\n",
              " 'in': 21,\n",
              " 'is': 24,\n",
              " 'john': 15,\n",
              " 'journeyed': 17,\n",
              " 'kitchen': 32,\n",
              " 'left': 20,\n",
              " 'mary': 27,\n",
              " 'milk': 29,\n",
              " 'moved': 36,\n",
              " 'no': 16,\n",
              " 'office': 2,\n",
              " 'picked': 33,\n",
              " 'put': 7,\n",
              " 'sandra': 4,\n",
              " 'the': 11,\n",
              " 'there': 30,\n",
              " 'to': 5,\n",
              " 'took': 22,\n",
              " 'travelled': 13,\n",
              " 'up': 37,\n",
              " 'went': 18,\n",
              " 'yes': 19}"
            ]
          },
          "metadata": {},
          "execution_count": 25
        }
      ]
    },
    {
      "cell_type": "code",
      "source": [
        "train_story_text = []\n",
        "train_question_text = []\n",
        "train_answers = []"
      ],
      "metadata": {
        "id": "hodX3H9whxxU"
      },
      "execution_count": null,
      "outputs": []
    },
    {
      "cell_type": "code",
      "source": [
        "for story,question,answer in train_data:\n",
        "  train_story_text.append(story)\n",
        "  train_question_text.append(question)\n",
        "  train_answers.append(answer)\n",
        "\n",
        "# train_story_text"
      ],
      "metadata": {
        "id": "ZLxDALlmiLGr"
      },
      "execution_count": null,
      "outputs": []
    },
    {
      "cell_type": "code",
      "source": [
        "train_story_seq = tokenizer.texts_to_sequences(train_story_text)\n",
        "len(train_story_seq)"
      ],
      "metadata": {
        "colab": {
          "base_uri": "https://localhost:8080/"
        },
        "id": "qDtPT6nSieJ7",
        "outputId": "e3c35e62-10e2-449b-9a2b-492243746bd7"
      },
      "execution_count": null,
      "outputs": [
        {
          "output_type": "execute_result",
          "data": {
            "text/plain": [
              "10000"
            ]
          },
          "metadata": {},
          "execution_count": 32
        }
      ]
    },
    {
      "cell_type": "code",
      "source": [
        "def vectorize_stories(data,word_index = tokenizer.word_index,max_story_len=max_story_len,max_question_len=max_question_len):\n",
        "\n",
        "  X = [] #Stories\n",
        "  Xq = [] #Questions\n",
        "  Y = [] #Answers(yes/no)\n",
        "\n",
        "  for story,query,answer in data:\n",
        "\n",
        "    x = [word_index[word.lower()] for word in story]\n",
        "    xq = [word_index[word.lower()] for word in query]\n",
        "    y = np.zeros(len(word_index)+1)\n",
        "    y[word_index[answer]] = 1\n",
        "\n",
        "    X.append(x)\n",
        "    Xq.append(xq)\n",
        "    Y.append(y)\n",
        "  \n",
        "  return (pad_sequences(X,maxlen=max_story_len),pad_sequences(Xq,maxlen=max_question_len),np.array(Y))"
      ],
      "metadata": {
        "id": "zqnLdG4Kiqjy"
      },
      "execution_count": null,
      "outputs": []
    },
    {
      "cell_type": "code",
      "source": [
        "inputs_train, queries_train, answers_train = vectorize_stories(train_data)"
      ],
      "metadata": {
        "id": "N05RSmQ-kJ5S"
      },
      "execution_count": null,
      "outputs": []
    },
    {
      "cell_type": "code",
      "source": [
        "inputs_test, queries_test, answers_test = vectorize_stories(test_data)"
      ],
      "metadata": {
        "id": "n0EAsWBCkQgL"
      },
      "execution_count": null,
      "outputs": []
    },
    {
      "cell_type": "code",
      "source": [
        "sum(answers_test)"
      ],
      "metadata": {
        "colab": {
          "base_uri": "https://localhost:8080/"
        },
        "id": "zedffpQmkUi7",
        "outputId": "0b9da413-b1cd-4d10-bb91-3b4185fe4cb9"
      },
      "execution_count": null,
      "outputs": [
        {
          "output_type": "execute_result",
          "data": {
            "text/plain": [
              "array([  0.,   0.,   0.,   0.,   0.,   0.,   0.,   0.,   0.,   0.,   0.,\n",
              "         0.,   0.,   0.,   0.,   0., 503.,   0.,   0., 497.,   0.,   0.,\n",
              "         0.,   0.,   0.,   0.,   0.,   0.,   0.,   0.,   0.,   0.,   0.,\n",
              "         0.,   0.,   0.,   0.,   0.])"
            ]
          },
          "metadata": {},
          "execution_count": 41
        }
      ]
    },
    {
      "cell_type": "markdown",
      "source": [
        "## DL Setup"
      ],
      "metadata": {
        "id": "c7VfWFXAvW_x"
      }
    },
    {
      "cell_type": "code",
      "source": [
        "from tensorflow.keras.models import Sequential,Model\n",
        "from tensorflow.keras.layers import Embedding\n",
        "from tensorflow.keras.layers import Input,Activation,Dense,Permute,Dropout,add,dot,concatenate,LSTM"
      ],
      "metadata": {
        "id": "mo4FkizukWIL"
      },
      "execution_count": null,
      "outputs": []
    },
    {
      "cell_type": "code",
      "source": [
        "input_sequence = Input(shape=(max_story_len,))\n",
        "question = Input((max_question_len,))"
      ],
      "metadata": {
        "id": "lo37RAxAlHxz"
      },
      "execution_count": null,
      "outputs": []
    },
    {
      "cell_type": "code",
      "source": [
        "vocab_size = len(vocab) + 1"
      ],
      "metadata": {
        "id": "6cWJ8jOcmWcl"
      },
      "execution_count": null,
      "outputs": []
    },
    {
      "cell_type": "code",
      "source": [
        "# Input encoder M\n",
        "input_encoder_m = Sequential()\n",
        "input_encoder_m.add(Embedding(input_dim=vocab_size,output_dim=64))\n",
        "input_encoder_m.add(Dropout(0.3))\n",
        "\n",
        "# Output:\n",
        "# (samples,story_max_len,embedding_dim)"
      ],
      "metadata": {
        "id": "QYrEtljwmVNE"
      },
      "execution_count": null,
      "outputs": []
    },
    {
      "cell_type": "code",
      "source": [
        "# Input encoder C\n",
        "input_encoder_c = Sequential()\n",
        "input_encoder_c.add(Embedding(input_dim=vocab_size,output_dim=max_question_len))\n",
        "input_encoder_c.add(Dropout(0.3))\n",
        "\n",
        "# Output:\n",
        "# (samples,story_maxlen,max_question_len)"
      ],
      "metadata": {
        "id": "rbaYfkBWzzVm"
      },
      "execution_count": null,
      "outputs": []
    },
    {
      "cell_type": "code",
      "source": [
        "question_encoder = Sequential()\n",
        "question_encoder.add(Embedding(input_dim=vocab_size,output_dim=64,input_length=max_question_len))\n",
        "question_encoder.add(Dropout(0.3))\n",
        "\n",
        "# Output:\n",
        "# (samples,query_maxlen,embedding_dim)"
      ],
      "metadata": {
        "id": "F0Yk-g9X0AM0"
      },
      "execution_count": null,
      "outputs": []
    },
    {
      "cell_type": "code",
      "source": [
        "input_encoded_m = input_encoder_m(input_sequence)\n",
        "input_encoded_c = input_encoder_c(input_sequence)\n",
        "question_encoded = question_encoder(question)"
      ],
      "metadata": {
        "id": "QXWlGq3Y0P-G"
      },
      "execution_count": null,
      "outputs": []
    },
    {
      "cell_type": "code",
      "source": [
        "match = dot([input_encoded_m,question_encoded], axes=(2,2))\n",
        "match = Activation('softmax')(match)"
      ],
      "metadata": {
        "id": "aO4dJp0h0sX9"
      },
      "execution_count": null,
      "outputs": []
    },
    {
      "cell_type": "code",
      "source": [
        "response = add([match,input_encoded_c])\n",
        "response = Permute((2,1))(response)"
      ],
      "metadata": {
        "id": "FpJeHoW1016X"
      },
      "execution_count": null,
      "outputs": []
    },
    {
      "cell_type": "code",
      "source": [
        "answer = concatenate([response,question_encoded])\n",
        "answer"
      ],
      "metadata": {
        "colab": {
          "base_uri": "https://localhost:8080/"
        },
        "id": "YReJACs71B6E",
        "outputId": "c5d4f863-229f-44f4-d646-4ec85a30776d"
      },
      "execution_count": null,
      "outputs": [
        {
          "output_type": "execute_result",
          "data": {
            "text/plain": [
              "<KerasTensor: shape=(None, 6, 220) dtype=float32 (created by layer 'concatenate_1')>"
            ]
          },
          "metadata": {},
          "execution_count": 57
        }
      ]
    },
    {
      "cell_type": "code",
      "source": [
        "answer = LSTM(32)(answer)"
      ],
      "metadata": {
        "id": "npRSg7hG1HLM"
      },
      "execution_count": null,
      "outputs": []
    },
    {
      "cell_type": "code",
      "source": [
        "answer = Dropout(0.5)(answer)\n",
        "answer = Dense(vocab_size)(answer) # (samples, vocab_size)"
      ],
      "metadata": {
        "id": "T5G4V1tq1VkF"
      },
      "execution_count": null,
      "outputs": []
    },
    {
      "cell_type": "code",
      "source": [
        "answer = Activation('softmax')(answer)"
      ],
      "metadata": {
        "id": "Ie0ZKOa_1e3O"
      },
      "execution_count": null,
      "outputs": []
    },
    {
      "cell_type": "code",
      "source": [
        "model = Model([input_sequence,question],answer)"
      ],
      "metadata": {
        "id": "IkHUsT8O1lbt"
      },
      "execution_count": null,
      "outputs": []
    },
    {
      "cell_type": "code",
      "source": [
        "model.compile(optimizer='rmsprop',loss='categorical_crossentropy',metrics=['accuracy'])"
      ],
      "metadata": {
        "id": "dSdmTqIz1ubE"
      },
      "execution_count": null,
      "outputs": []
    },
    {
      "cell_type": "code",
      "source": [
        "model.summary()"
      ],
      "metadata": {
        "colab": {
          "base_uri": "https://localhost:8080/"
        },
        "id": "ONgviW_n2A59",
        "outputId": "e8efc6c3-3a70-4552-d9e6-a93cd2a3bbad"
      },
      "execution_count": null,
      "outputs": [
        {
          "output_type": "stream",
          "name": "stdout",
          "text": [
            "Model: \"model\"\n",
            "__________________________________________________________________________________________________\n",
            " Layer (type)                   Output Shape         Param #     Connected to                     \n",
            "==================================================================================================\n",
            " input_1 (InputLayer)           [(None, 156)]        0           []                               \n",
            "                                                                                                  \n",
            " input_2 (InputLayer)           [(None, 6)]          0           []                               \n",
            "                                                                                                  \n",
            " sequential (Sequential)        (None, None, 64)     2432        ['input_1[0][0]']                \n",
            "                                                                                                  \n",
            " sequential_2 (Sequential)      (None, 6, 64)        2432        ['input_2[0][0]']                \n",
            "                                                                                                  \n",
            " dot (Dot)                      (None, 156, 6)       0           ['sequential[0][0]',             \n",
            "                                                                  'sequential_2[0][0]']           \n",
            "                                                                                                  \n",
            " activation (Activation)        (None, 156, 6)       0           ['dot[0][0]']                    \n",
            "                                                                                                  \n",
            " sequential_1 (Sequential)      (None, None, 6)      228         ['input_1[0][0]']                \n",
            "                                                                                                  \n",
            " add (Add)                      (None, 156, 6)       0           ['activation[0][0]',             \n",
            "                                                                  'sequential_1[0][0]']           \n",
            "                                                                                                  \n",
            " permute (Permute)              (None, 6, 156)       0           ['add[0][0]']                    \n",
            "                                                                                                  \n",
            " concatenate_1 (Concatenate)    (None, 6, 220)       0           ['permute[0][0]',                \n",
            "                                                                  'sequential_2[0][0]']           \n",
            "                                                                                                  \n",
            " lstm_1 (LSTM)                  (None, 32)           32384       ['concatenate_1[0][0]']          \n",
            "                                                                                                  \n",
            " dropout_4 (Dropout)            (None, 32)           0           ['lstm_1[0][0]']                 \n",
            "                                                                                                  \n",
            " dense_1 (Dense)                (None, 38)           1254        ['dropout_4[0][0]']              \n",
            "                                                                                                  \n",
            " activation_2 (Activation)      (None, 38)           0           ['dense_1[0][0]']                \n",
            "                                                                                                  \n",
            "==================================================================================================\n",
            "Total params: 38,730\n",
            "Trainable params: 38,730\n",
            "Non-trainable params: 0\n",
            "__________________________________________________________________________________________________\n"
          ]
        }
      ]
    },
    {
      "cell_type": "code",
      "source": [
        "history = model.fit([inputs_train,queries_train],answers_train,batch_size=32,epochs=10,validation_data=([inputs_test,queries_test],answers_test))"
      ],
      "metadata": {
        "colab": {
          "base_uri": "https://localhost:8080/"
        },
        "id": "E3NCrYkh2BkV",
        "outputId": "92ddafda-6d88-44cf-9f3d-50ee239448ba"
      },
      "execution_count": null,
      "outputs": [
        {
          "output_type": "stream",
          "name": "stdout",
          "text": [
            "Epoch 1/10\n",
            "313/313 [==============================] - 9s 19ms/step - loss: 0.9254 - accuracy: 0.4835 - val_loss: 0.6946 - val_accuracy: 0.4970\n",
            "Epoch 2/10\n",
            "313/313 [==============================] - 5s 16ms/step - loss: 0.7028 - accuracy: 0.4989 - val_loss: 0.6939 - val_accuracy: 0.4970\n",
            "Epoch 3/10\n",
            "313/313 [==============================] - 5s 16ms/step - loss: 0.6957 - accuracy: 0.5043 - val_loss: 0.6937 - val_accuracy: 0.5030\n",
            "Epoch 4/10\n",
            "313/313 [==============================] - 5s 15ms/step - loss: 0.6944 - accuracy: 0.5015 - val_loss: 0.6932 - val_accuracy: 0.4970\n",
            "Epoch 5/10\n",
            "313/313 [==============================] - 5s 16ms/step - loss: 0.6948 - accuracy: 0.4983 - val_loss: 0.6941 - val_accuracy: 0.4970\n",
            "Epoch 6/10\n",
            "313/313 [==============================] - 5s 15ms/step - loss: 0.6951 - accuracy: 0.4974 - val_loss: 0.6969 - val_accuracy: 0.4970\n",
            "Epoch 7/10\n",
            "313/313 [==============================] - 5s 15ms/step - loss: 0.6946 - accuracy: 0.4971 - val_loss: 0.6942 - val_accuracy: 0.4970\n",
            "Epoch 8/10\n",
            "313/313 [==============================] - 5s 16ms/step - loss: 0.6941 - accuracy: 0.5047 - val_loss: 0.6958 - val_accuracy: 0.5030\n",
            "Epoch 9/10\n",
            "313/313 [==============================] - 5s 16ms/step - loss: 0.6944 - accuracy: 0.5004 - val_loss: 0.6943 - val_accuracy: 0.4620\n",
            "Epoch 10/10\n",
            "313/313 [==============================] - 5s 16ms/step - loss: 0.6923 - accuracy: 0.5178 - val_loss: 0.6931 - val_accuracy: 0.4980\n"
          ]
        }
      ]
    },
    {
      "cell_type": "code",
      "source": [
        "import matplotlib.pyplot as plt\n",
        "%matplotlib inline\n",
        "print(history.history.keys())\n",
        "plt.plot(history.history['accuracy'])\n",
        "plt.plot(history.history['val_accuracy'])\n",
        "plt.title('model accuracy')\n",
        "plt.ylabel('accuracy')\n",
        "plt.xlabel('epoch')\n",
        "plt.legend(['train', 'test'], loc = 'upper left')\n",
        "plt.show()"
      ],
      "metadata": {
        "colab": {
          "base_uri": "https://localhost:8080/",
          "height": 312
        },
        "id": "32cWFyQb3nKG",
        "outputId": "0d630ae3-4d05-497a-9322-88c8a60c10ad"
      },
      "execution_count": null,
      "outputs": [
        {
          "output_type": "stream",
          "name": "stdout",
          "text": [
            "dict_keys(['loss', 'accuracy', 'val_loss', 'val_accuracy'])\n"
          ]
        },
        {
          "output_type": "display_data",
          "data": {
            "text/plain": [
              "<Figure size 432x288 with 1 Axes>"
            ],
            "image/png": "[encoded data removed]"
          },
          "metadata": {
            "needs_background": "light"
          }
        }
      ]
    },
    {
      "cell_type": "code",
      "source": [
        "model.save('chatbotnew.h5')"
      ],
      "metadata": {
        "id": "lvaok1V04gpe"
      },
      "execution_count": null,
      "outputs": []
    },
    {
      "cell_type": "markdown",
      "source": [
        "Loading a model trained with more epochs"
      ],
      "metadata": {
        "id": "t1bJZC_WvexB"
      }
    },
    {
      "cell_type": "code",
      "source": [
        "model.load_weights('chatbot_10.h5')"
      ],
      "metadata": {
        "id": "42AWDadR5ILu"
      },
      "execution_count": null,
      "outputs": []
    },
    {
      "cell_type": "markdown",
      "source": [
        "## Testing the chatbot"
      ],
      "metadata": {
        "id": "GctIGf1wvsRZ"
      }
    },
    {
      "cell_type": "code",
      "source": [
        "pred_results = model.predict(([inputs_test,queries_test]))"
      ],
      "metadata": {
        "id": "JJnJzaFp5SuV"
      },
      "execution_count": null,
      "outputs": []
    },
    {
      "cell_type": "code",
      "source": [
        "pred_results.shape"
      ],
      "metadata": {
        "colab": {
          "base_uri": "https://localhost:8080/"
        },
        "id": "YFQ7AhCH5f3l",
        "outputId": "a1f35a3d-ef96-4eac-fdce-8a6eb4b03917"
      },
      "execution_count": null,
      "outputs": [
        {
          "output_type": "execute_result",
          "data": {
            "text/plain": [
              "(1000, 38)"
            ]
          },
          "metadata": {},
          "execution_count": 72
        }
      ]
    },
    {
      "cell_type": "code",
      "source": [
        "test_data[0][0]"
      ],
      "metadata": {
        "colab": {
          "base_uri": "https://localhost:8080/"
        },
        "id": "jxfANXq055d9",
        "outputId": "e3a0f2b3-4356-4a60-8667-8d7648fd7e18"
      },
      "execution_count": null,
      "outputs": [
        {
          "output_type": "execute_result",
          "data": {
            "text/plain": [
              "['Mary',\n",
              " 'got',\n",
              " 'the',\n",
              " 'milk',\n",
              " 'there',\n",
              " '.',\n",
              " 'John',\n",
              " 'moved',\n",
              " 'to',\n",
              " 'the',\n",
              " 'bedroom',\n",
              " '.']"
            ]
          },
          "metadata": {},
          "execution_count": 74
        }
      ]
    },
    {
      "cell_type": "code",
      "source": [
        "test_data[0][1]"
      ],
      "metadata": {
        "colab": {
          "base_uri": "https://localhost:8080/"
        },
        "id": "8OS0J6Bv57fd",
        "outputId": "e89ce1e5-fe98-41dc-fd44-1f4598869906"
      },
      "execution_count": null,
      "outputs": [
        {
          "output_type": "execute_result",
          "data": {
            "text/plain": [
              "['Is', 'John', 'in', 'the', 'kitchen', '?']"
            ]
          },
          "metadata": {},
          "execution_count": 75
        }
      ]
    },
    {
      "cell_type": "code",
      "source": [
        "test_data[0][2]"
      ],
      "metadata": {
        "colab": {
          "base_uri": "https://localhost:8080/",
          "height": 35
        },
        "id": "bvzviKss58-e",
        "outputId": "ae13b2d5-3e27-4dc3-a19c-d9c8e2f7ad3c"
      },
      "execution_count": null,
      "outputs": [
        {
          "output_type": "execute_result",
          "data": {
            "text/plain": [
              "'no'"
            ],
            "application/vnd.google.colaboratory.intrinsic+json": {
              "type": "string"
            }
          },
          "metadata": {},
          "execution_count": 76
        }
      ]
    },
    {
      "cell_type": "code",
      "source": [
        "val_max = np.argmax(pred_results[0])"
      ],
      "metadata": {
        "id": "1b75yC-85qrE"
      },
      "execution_count": null,
      "outputs": []
    },
    {
      "cell_type": "markdown",
      "source": [
        "Converting token to answer\n",
        "(The football if statement is due to the loaded model being trained on a slightly different token-word dictionary in which the tokens for `football` and `no` were exchanged'"
      ],
      "metadata": {
        "id": "CMTe9rDIvvgH"
      }
    },
    {
      "cell_type": "code",
      "source": [
        "for key, val in tokenizer.word_index.items():\n",
        "  if val == val_max:\n",
        "    k = key\n",
        "    if (k=='football'):\n",
        "      k='no'"
      ],
      "metadata": {
        "id": "H-V2kIhJ5wwN"
      },
      "execution_count": null,
      "outputs": []
    },
    {
      "cell_type": "code",
      "source": [
        "k"
      ],
      "metadata": {
        "colab": {
          "base_uri": "https://localhost:8080/",
          "height": 35
        },
        "id": "LVVMwmzX6J6Y",
        "outputId": "a5e395b3-22c7-43ff-b28a-68d4f5031073"
      },
      "execution_count": null,
      "outputs": [
        {
          "output_type": "execute_result",
          "data": {
            "text/plain": [
              "'no'"
            ],
            "application/vnd.google.colaboratory.intrinsic+json": {
              "type": "string"
            }
          },
          "metadata": {},
          "execution_count": 95
        }
      ]
    },
    {
      "cell_type": "code",
      "source": [
        "my_story = \"John left the kitchen . Sandra dropped the milk in the garden .\""
      ],
      "metadata": {
        "id": "vJXVlrC86KbO"
      },
      "execution_count": null,
      "outputs": []
    },
    {
      "cell_type": "code",
      "source": [
        "my_story.split()"
      ],
      "metadata": {
        "colab": {
          "base_uri": "https://localhost:8080/"
        },
        "id": "FOzPNeeH6nct",
        "outputId": "71053e1c-1eb4-4403-b03f-279b41e69366"
      },
      "execution_count": null,
      "outputs": [
        {
          "output_type": "execute_result",
          "data": {
            "text/plain": [
              "['John',\n",
              " 'left',\n",
              " 'the',\n",
              " 'kitchen',\n",
              " '.',\n",
              " 'Sandra',\n",
              " 'dropped',\n",
              " 'the',\n",
              " 'milk',\n",
              " 'in',\n",
              " 'the',\n",
              " 'garden',\n",
              " '.']"
            ]
          },
          "metadata": {},
          "execution_count": 108
        }
      ]
    },
    {
      "cell_type": "code",
      "source": [
        "my_question = \"Is the milk in the kitchen ?\"\n",
        "my_question.split()"
      ],
      "metadata": {
        "colab": {
          "base_uri": "https://localhost:8080/"
        },
        "id": "ueq8a0P-6p9I",
        "outputId": "f8e0de8d-3576-43af-9ddf-ffbd7b325e5d"
      },
      "execution_count": null,
      "outputs": [
        {
          "output_type": "execute_result",
          "data": {
            "text/plain": [
              "['Is', 'the', 'milk', 'in', 'the', 'kitchen', '?']"
            ]
          },
          "metadata": {},
          "execution_count": 109
        }
      ]
    },
    {
      "cell_type": "code",
      "source": [
        "mydata = [(my_story.split(),my_question.split(),'yes')]"
      ],
      "metadata": {
        "id": "5ILZBq5y62Uu"
      },
      "execution_count": null,
      "outputs": []
    },
    {
      "cell_type": "code",
      "source": [
        "my_story,my_ques,my_ans = vectorize_stories(mydata)"
      ],
      "metadata": {
        "id": "41YVLA0d7B72"
      },
      "execution_count": null,
      "outputs": []
    },
    {
      "cell_type": "code",
      "source": [
        "pred_res = model.predict(([my_story,my_ques]))"
      ],
      "metadata": {
        "id": "w6sJ4Qef7LcP"
      },
      "execution_count": null,
      "outputs": []
    },
    {
      "cell_type": "code",
      "source": [
        "val_max = np.argmax(pred_res[0])\n",
        "for key, val in tokenizer.word_index.items():\n",
        "  if val == val_max:\n",
        "    k = key\n",
        "    if (k=='football'):\n",
        "      k='no'"
      ],
      "metadata": {
        "id": "mgMgHEfu7X6F"
      },
      "execution_count": null,
      "outputs": []
    },
    {
      "cell_type": "code",
      "source": [
        "k"
      ],
      "metadata": {
        "colab": {
          "base_uri": "https://localhost:8080/",
          "height": 35
        },
        "id": "wbcQxjX47fPG",
        "outputId": "9be78787-7ed3-4376-88c5-e36a38475a09"
      },
      "execution_count": null,
      "outputs": [
        {
          "output_type": "execute_result",
          "data": {
            "text/plain": [
              "'no'"
            ],
            "application/vnd.google.colaboratory.intrinsic+json": {
              "type": "string"
            }
          },
          "metadata": {},
          "execution_count": 114
        }
      ]
    },
    {
      "cell_type": "markdown",
      "source": [
        "Works :)"
      ],
      "metadata": {
        "id": "zAD2t7QawH8R"
      }
    },
    {
      "cell_type": "code",
      "source": [
        "pred_res[0][val_max]"
      ],
      "metadata": {
        "colab": {
          "base_uri": "https://localhost:8080/"
        },
        "id": "8YGSCB147foO",
        "outputId": "041faff2-ceeb-415e-d1ed-f4ab7b996603"
      },
      "execution_count": null,
      "outputs": [
        {
          "output_type": "execute_result",
          "data": {
            "text/plain": [
              "0.9997731"
            ]
          },
          "metadata": {},
          "execution_count": 115
        }
      ]
    },
    {
      "cell_type": "code",
      "source": [
        ""
      ],
      "metadata": {
        "id": "w_KQ_rva7rAe"
      },
      "execution_count": null,
      "outputs": []
    }
  ]
}